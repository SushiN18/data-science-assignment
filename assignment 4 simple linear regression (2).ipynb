{
 "cells": [
  {
   "cell_type": "code",
   "execution_count": null,
   "id": "0e5b5581",
   "metadata": {},
   "outputs": [],
   "source": [
    "import pandas as pd\n",
    "import numpy as np\n",
    "import seaborn as sns\n",
    "import statsmodels.formula.api as smf"
   ]
  },
  {
   "cell_type": "code",
   "execution_count": null,
   "id": "a35d7628",
   "metadata": {},
   "outputs": [],
   "source": [
    "datasets= pd.read_csv('C:/Users/Sushi/Downloads/Salary_Data.csv')\n",
    "datasets"
   ]
  },
  {
   "cell_type": "code",
   "execution_count": null,
   "id": "9d818b56",
   "metadata": {},
   "outputs": [],
   "source": [
    "datasets.info()"
   ]
  },
  {
   "cell_type": "code",
   "execution_count": null,
   "id": "b0fff17b",
   "metadata": {},
   "outputs": [],
   "source": [
    "sns.distplot(datasets['YearsExperience'])"
   ]
  },
  {
   "cell_type": "code",
   "execution_count": null,
   "id": "ce8481fe",
   "metadata": {},
   "outputs": [],
   "source": [
    "sns.displot(datasets['Salary'])"
   ]
  },
  {
   "cell_type": "code",
   "execution_count": null,
   "id": "1972888a",
   "metadata": {},
   "outputs": [],
   "source": [
    "datasets.corr()"
   ]
  },
  {
   "cell_type": "code",
   "execution_count": null,
   "id": "d596de38",
   "metadata": {},
   "outputs": [],
   "source": [
    "sns.regplot(x=datasets['YearsExperience'],y=datasets['Salary'])"
   ]
  },
  {
   "cell_type": "code",
   "execution_count": null,
   "id": "f1569478",
   "metadata": {},
   "outputs": [],
   "source": [
    "model=smf.ols(\"Salary~YearsExperience\",data=datasets).fit()"
   ]
  },
  {
   "cell_type": "code",
   "execution_count": null,
   "id": "1322461d",
   "metadata": {},
   "outputs": [],
   "source": [
    "model.params"
   ]
  },
  {
   "cell_type": "code",
   "execution_count": null,
   "id": "baef7242",
   "metadata": {},
   "outputs": [],
   "source": [
    "model.tvalues, model.pvalues"
   ]
  },
  {
   "cell_type": "markdown",
   "id": "9183acdc",
   "metadata": {},
   "source": [
    "model.rsquared,model.rsquared_adj"
   ]
  },
  {
   "cell_type": "code",
   "execution_count": null,
   "id": "5f027b06",
   "metadata": {},
   "outputs": [],
   "source": [
    "salary=(25792.200199) + (9449.962321)*(3)\n",
    "salary"
   ]
  },
  {
   "cell_type": "code",
   "execution_count": null,
   "id": "6dbb59d9",
   "metadata": {},
   "outputs": [],
   "source": [
    "new_data=pd.Series([3,5])\n",
    "new_data"
   ]
  },
  {
   "cell_type": "code",
   "execution_count": null,
   "id": "08ec4dd4",
   "metadata": {},
   "outputs": [],
   "source": [
    "data_pred=pd.DataFrame(new_data,columns=['YearsExperience'])\n",
    "data_pred"
   ]
  },
  {
   "cell_type": "code",
   "execution_count": null,
   "id": "20687f9c",
   "metadata": {},
   "outputs": [],
   "source": [
    "model.predict(data_pred)"
   ]
  },
  {
   "cell_type": "code",
   "execution_count": null,
   "id": "f1c776cc",
   "metadata": {},
   "outputs": [],
   "source": []
  }
 ],
 "metadata": {
  "kernelspec": {
   "display_name": "Python 3 (ipykernel)",
   "language": "python",
   "name": "python3"
  },
  "language_info": {
   "codemirror_mode": {
    "name": "ipython",
    "version": 3
   },
   "file_extension": ".py",
   "mimetype": "text/x-python",
   "name": "python",
   "nbconvert_exporter": "python",
   "pygments_lexer": "ipython3",
   "version": "3.9.7"
  }
 },
 "nbformat": 4,
 "nbformat_minor": 5
}
